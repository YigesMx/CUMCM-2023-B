{
 "cells": [
  {
   "cell_type": "code",
   "execution_count": 46,
   "metadata": {},
   "outputs": [],
   "source": [
    "from typing import List\n",
    "\n",
    "import math\n",
    "import numpy as np\n",
    "import sympy as sp"
   ]
  },
  {
   "cell_type": "code",
   "execution_count": 47,
   "metadata": {},
   "outputs": [
    {
     "data": {
      "text/plain": [
       "[Point3D(1, 1, 1)]"
      ]
     },
     "execution_count": 47,
     "metadata": {},
     "output_type": "execute_result"
    }
   ],
   "source": [
    "# 定义一个经过 (1,0,0)，方向为 (1,1,1) 的直线\n",
    "l1 = sp.Ray((1,0,0), (1,1,1))\n",
    "\n",
    "# 定义一个经过 (1,1,1), 法线方向为 (1,1,1) 的平面\n",
    "s1 = sp.Plane((1,1,1), (1,1,1))\n",
    "\n",
    "# 计算直线与平面的交点\n",
    "p1 = s1.intersection(l1)\n",
    "p1"
   ]
  },
  {
   "cell_type": "code",
   "execution_count": 48,
   "metadata": {},
   "outputs": [],
   "source": [
    "import utilities"
   ]
  },
  {
   "cell_type": "code",
   "execution_count": 49,
   "metadata": {},
   "outputs": [
    {
     "data": {
      "text/latex": [
       "$\\displaystyle 117.58052938602825217$"
      ],
      "text/plain": [
       "117.58052938602825217"
      ]
     },
     "execution_count": 49,
     "metadata": {},
     "output_type": "execute_result"
    }
   ],
   "source": [
    "pos0 = utilities.SingleDetector(center_depth=100, slope_angle=sp.pi/12, direction_angle=2*sp.pi/3, detector_angle=sp.pi/3, precision=20)\n",
    "pos0.detect_eval()\n",
    "pos0.scan_segment_length_proj_xy"
   ]
  },
  {
   "cell_type": "code",
   "execution_count": 50,
   "metadata": {},
   "outputs": [],
   "source": [
    "pos1 = utilities.SingleDetector(center_depth=100, slope_angle=sp.pi/6, direction_angle=3*sp.pi/4, detector_angle=sp.pi/3)"
   ]
  },
  {
   "cell_type": "code",
   "execution_count": 51,
   "metadata": {},
   "outputs": [
    {
     "data": {
      "text/latex": [
       "$\\displaystyle \\operatorname{Plane}\\left(\\operatorname{Point3D}\\left(0, 0, 0\\right), \\left( \\frac{1}{2}, \\  0, \\  \\frac{\\sqrt{3}}{2}\\right)\\right)$"
      ],
      "text/plain": [
       "Plane(Point3D(0, 0, 0), (1/2, 0, sqrt(3)/2))"
      ]
     },
     "execution_count": 51,
     "metadata": {},
     "output_type": "execute_result"
    }
   ],
   "source": [
    "center_depth = pos1.center_depth\n",
    "slope_angle = pos1.slope_angle\n",
    "direction_angle = pos1.direction_angle\n",
    "detector_angle = pos1.detector_angle\n",
    "\n",
    "origin = sp.Matrix([0, 0, 0])\n",
    "i_hat = sp.Matrix([1, 0, 0]) # x unit, also slope direction's projection onto the x-y plane\n",
    "j_hat = sp.Matrix([0, 1, 0]) # y unit\n",
    "k_hat = sp.Matrix([0, 0, 1]) # z unit\n",
    "\n",
    "loc = sp.Matrix([0, 0, center_depth])\n",
    "# 坡面法向量\n",
    "slope_normal_vec = sp.Matrix([sp.sin(slope_angle), 0, sp.cos(slope_angle)])\n",
    "# 坡面\n",
    "slope = sp.Plane(origin, normal_vector=slope_normal_vec)\n",
    "\n",
    "slope"
   ]
  },
  {
   "cell_type": "code",
   "execution_count": 52,
   "metadata": {},
   "outputs": [
    {
     "data": {
      "text/latex": [
       "$\\displaystyle \\left[\\begin{matrix}- \\frac{\\sqrt{2}}{2}\\\\- \\frac{\\sqrt{2}}{2}\\\\0\\end{matrix}\\right]$"
      ],
      "text/plain": [
       "Matrix([\n",
       "[-sqrt(2)/2],\n",
       "[-sqrt(2)/2],\n",
       "[         0]])"
      ]
     },
     "execution_count": 52,
     "metadata": {},
     "output_type": "execute_result"
    }
   ],
   "source": [
    "# 船的方向向量 - direction vector\n",
    "direction_vec = sp.Matrix([sp.cos(direction_angle), sp.sin(direction_angle), 0])\n",
    "# 船的方向向量在x-y平面上旋转90度，得到船的侧向向量 - side vector\n",
    "side_vec = sp.Matrix([-sp.sin(direction_angle), sp.cos(direction_angle), 0])\n",
    "\n",
    "side_vec"
   ]
  },
  {
   "cell_type": "code",
   "execution_count": 53,
   "metadata": {},
   "outputs": [
    {
     "data": {
      "text/latex": [
       "$\\displaystyle \\frac{\\pi}{6}$"
      ],
      "text/plain": [
       "pi/6"
      ]
     },
     "execution_count": 53,
     "metadata": {},
     "output_type": "execute_result"
    }
   ],
   "source": [
    "# 探测器单边检测角度\n",
    "detector_angle_half = detector_angle/2\n",
    "detector_angle_half"
   ]
  },
  {
   "cell_type": "code",
   "execution_count": 54,
   "metadata": {},
   "outputs": [
    {
     "data": {
      "text/latex": [
       "$\\displaystyle \\left[\\begin{matrix}\\frac{50 \\sqrt{6}}{3}\\\\\\frac{50 \\sqrt{6}}{3}\\\\0\\end{matrix}\\right]$"
      ],
      "text/plain": [
       "Matrix([\n",
       "[50*sqrt(6)/3],\n",
       "[50*sqrt(6)/3],\n",
       "[           0]])"
      ]
     },
     "execution_count": 54,
     "metadata": {},
     "output_type": "execute_result"
    }
   ],
   "source": [
    "# 探测器检测扇形与x-y平面的两个交点\n",
    "detect_point_xy_1 = side_vec * sp.tan(detector_angle_half) * center_depth\n",
    "detect_point_xy_2 = -side_vec * sp.tan(detector_angle_half) * center_depth\n",
    "\n",
    "detect_point_xy_1\n",
    "detect_point_xy_2"
   ]
  },
  {
   "cell_type": "code",
   "execution_count": 55,
   "metadata": {},
   "outputs": [
    {
     "data": {
      "text/latex": [
       "$\\displaystyle \\operatorname{Line3D}\\left(\\operatorname{Point3D}\\left(0, 0, 100\\right), \\operatorname{Point3D}\\left(\\frac{50 \\sqrt{6}}{3}, \\frac{50 \\sqrt{6}}{3}, 0\\right)\\right)$"
      ],
      "text/plain": [
       "Line3D(Point3D(0, 0, 100), Point3D(50*sqrt(6)/3, 50*sqrt(6)/3, 0))"
      ]
     },
     "execution_count": 55,
     "metadata": {},
     "output_type": "execute_result"
    }
   ],
   "source": [
    "# 检测扇形的两个边沿\n",
    "detect_line_1 = sp.Line(loc, detect_point_xy_1)\n",
    "detect_line_2 = sp.Line(loc, detect_point_xy_2)\n",
    "\n",
    "detect_line_1\n",
    "detect_line_2"
   ]
  },
  {
   "cell_type": "code",
   "execution_count": 56,
   "metadata": {},
   "outputs": [
    {
     "data": {
      "text/latex": [
       "$\\displaystyle \\operatorname{Point3D}\\left(\\frac{50 \\sqrt{6} \\cdot \\left(\\frac{3 \\sqrt{2}}{17} + \\frac{18}{17}\\right)}{3}, \\frac{50 \\sqrt{6} \\cdot \\left(\\frac{3 \\sqrt{2}}{17} + \\frac{18}{17}\\right)}{3}, - \\frac{300 \\sqrt{2}}{17} - \\frac{100}{17}\\right)$"
      ],
      "text/plain": [
       "Point3D(50*sqrt(6)*(3*sqrt(2)/17 + 18/17)/3, 50*sqrt(6)*(3*sqrt(2)/17 + 18/17)/3, -300*sqrt(2)/17 - 100/17)"
      ]
     },
     "execution_count": 56,
     "metadata": {},
     "output_type": "execute_result"
    }
   ],
   "source": [
    "# 检测扇形的两个边沿与坡面的交点\n",
    "detect_point_1 = slope.intersection(detect_line_1)\n",
    "detect_point_2 = slope.intersection(detect_line_2)\n",
    "assert len(detect_point_1) == 1 and len(detect_point_2) == 1\n",
    "detect_point_1 = detect_point_1[0]\n",
    "detect_point_2 = detect_point_2[0]\n",
    "\n",
    "detect_point_1\n",
    "detect_point_2"
   ]
  },
  {
   "cell_type": "code",
   "execution_count": 57,
   "metadata": {},
   "outputs": [
    {
     "data": {
      "text/latex": [
       "$\\displaystyle \\operatorname{Segment3D}\\left(\\operatorname{Point3D}\\left(- \\frac{50 \\sqrt{6} \\cdot \\left(\\frac{18}{17} - \\frac{3 \\sqrt{2}}{17}\\right)}{3}, - \\frac{50 \\sqrt{6} \\cdot \\left(\\frac{18}{17} - \\frac{3 \\sqrt{2}}{17}\\right)}{3}, - \\frac{100}{17} + \\frac{300 \\sqrt{2}}{17}\\right), \\operatorname{Point3D}\\left(\\frac{50 \\sqrt{6} \\cdot \\left(\\frac{3 \\sqrt{2}}{17} + \\frac{18}{17}\\right)}{3}, \\frac{50 \\sqrt{6} \\cdot \\left(\\frac{3 \\sqrt{2}}{17} + \\frac{18}{17}\\right)}{3}, - \\frac{300 \\sqrt{2}}{17} - \\frac{100}{17}\\right)\\right)$"
      ],
      "text/plain": [
       "Segment3D(Point3D(-50*sqrt(6)*(18/17 - 3*sqrt(2)/17)/3, -50*sqrt(6)*(18/17 - 3*sqrt(2)/17)/3, -100/17 + 300*sqrt(2)/17), Point3D(50*sqrt(6)*(3*sqrt(2)/17 + 18/17)/3, 50*sqrt(6)*(3*sqrt(2)/17 + 18/17)/3, -300*sqrt(2)/17 - 100/17))"
      ]
     },
     "execution_count": 57,
     "metadata": {},
     "output_type": "execute_result"
    }
   ],
   "source": [
    "# 检测扇形的两个边沿与坡面的交点的连线\n",
    "detect_scan_line = sp.Segment(detect_point_1, detect_point_2)\n",
    "detect_scan_line"
   ]
  },
  {
   "cell_type": "code",
   "execution_count": 58,
   "metadata": {},
   "outputs": [
    {
     "data": {
      "text/latex": [
       "$\\displaystyle - \\frac{\\pi}{2} + \\operatorname{acos}{\\left(- \\frac{\\sqrt{7}}{7} \\right)}$"
      ],
      "text/plain": [
       "-pi/2 + acos(-sqrt(7)/7)"
      ]
     },
     "execution_count": 58,
     "metadata": {},
     "output_type": "execute_result"
    }
   ],
   "source": [
    "# detect_scan_line与x-y平面的夹角\n",
    "detect_scan_angle = sp.Abs(sp.pi/2 - sp.Abs(detect_scan_line.angle_between(sp.Line(origin, k_hat))))\n",
    "\n",
    "detect_scan_angle"
   ]
  },
  {
   "cell_type": "code",
   "execution_count": 59,
   "metadata": {},
   "outputs": [
    {
     "data": {
      "text/latex": [
       "$\\displaystyle \\sqrt{\\frac{720000}{289} + 2 \\left(- \\frac{50 \\sqrt{6} \\cdot \\left(\\frac{3 \\sqrt{2}}{17} + \\frac{18}{17}\\right)}{3} - \\frac{50 \\sqrt{6} \\cdot \\left(\\frac{18}{17} - \\frac{3 \\sqrt{2}}{17}\\right)}{3}\\right)^{2}}$"
      ],
      "text/plain": [
       "sqrt(720000/289 + 2*(-50*sqrt(6)*(3*sqrt(2)/17 + 18/17)/3 - 50*sqrt(6)*(18/17 - 3*sqrt(2)/17)/3)**2)"
      ]
     },
     "execution_count": 59,
     "metadata": {},
     "output_type": "execute_result"
    }
   ],
   "source": [
    "# 检测扇形的两个边沿与坡面的交点的连线的长度\n",
    "detect_scan_line_length = detect_scan_line.length\n",
    "\n",
    "detect_scan_line_length"
   ]
  },
  {
   "cell_type": "code",
   "execution_count": 60,
   "metadata": {},
   "outputs": [
    {
     "data": {
      "text/latex": [
       "$\\displaystyle \\frac{\\sqrt{42} \\sqrt{\\frac{720000}{289} + 2 \\left(- \\frac{50 \\sqrt{6} \\cdot \\left(\\frac{3 \\sqrt{2}}{17} + \\frac{18}{17}\\right)}{3} - \\frac{50 \\sqrt{6} \\cdot \\left(\\frac{18}{17} - \\frac{3 \\sqrt{2}}{17}\\right)}{3}\\right)^{2}}}{7}$"
      ],
      "text/plain": [
       "sqrt(42)*sqrt(720000/289 + 2*(-50*sqrt(6)*(3*sqrt(2)/17 + 18/17)/3 - 50*sqrt(6)*(18/17 - 3*sqrt(2)/17)/3)**2)/7"
      ]
     },
     "execution_count": 60,
     "metadata": {},
     "output_type": "execute_result"
    }
   ],
   "source": [
    "# detect_scan_line_length在x-y平面上的投影长度\n",
    "detect_scan_line_length_xy = detect_scan_line_length * sp.cos(detect_scan_angle)\n",
    "\n",
    "detect_scan_line_length_xy"
   ]
  },
  {
   "cell_type": "code",
   "execution_count": 61,
   "metadata": {},
   "outputs": [
    {
     "data": {
      "text/latex": [
       "$\\displaystyle \\operatorname{Line3D}\\left(\\operatorname{Point3D}\\left(0, 0, 0\\right), \\operatorname{Point3D}\\left(- \\frac{\\sqrt{2}}{2}, \\frac{\\sqrt{2}}{2}, 0\\right)\\right)$"
      ],
      "text/plain": [
       "Line3D(Point3D(0, 0, 0), Point3D(-sqrt(2)/2, sqrt(2)/2, 0))"
      ]
     },
     "execution_count": 61,
     "metadata": {},
     "output_type": "execute_result"
    }
   ],
   "source": [
    "# 测线 与 测线所在竖直平面\n",
    "measuring_line = sp.Line(origin, direction_vec)\n",
    "measuring_line_plane = sp.Plane(origin, normal_vector=side_vec)\n",
    "\n",
    "measuring_line\n",
    "#measuring_line_plane"
   ]
  },
  {
   "cell_type": "code",
   "execution_count": 62,
   "metadata": {},
   "outputs": [
    {
     "data": {
      "text/latex": [
       "$\\displaystyle \\operatorname{Line3D}\\left(\\operatorname{Point3D}\\left(0, 0, 0\\right), \\operatorname{Point3D}\\left(- \\frac{\\sqrt{6}}{4}, \\frac{\\sqrt{6}}{4}, \\frac{\\sqrt{2}}{4}\\right)\\right)$"
      ],
      "text/plain": [
       "Line3D(Point3D(0, 0, 0), Point3D(-sqrt(6)/4, sqrt(6)/4, sqrt(2)/4))"
      ]
     },
     "execution_count": 62,
     "metadata": {},
     "output_type": "execute_result"
    }
   ],
   "source": [
    "# 测线平面与坡面的交线\n",
    "measuring_slope_line = measuring_line_plane.intersection(slope)\n",
    "assert len(measuring_slope_line) == 1\n",
    "measuring_slope_line = measuring_slope_line[0]\n",
    "\n",
    "measuring_slope_line"
   ]
  },
  {
   "cell_type": "code",
   "execution_count": 65,
   "metadata": {},
   "outputs": [
    {
     "data": {
      "text/latex": [
       "$\\displaystyle - \\operatorname{acos}{\\left(\\frac{\\sqrt{7}}{7} \\right)} + \\frac{\\pi}{2}$"
      ],
      "text/plain": [
       "-acos(sqrt(7)/7) + pi/2"
      ]
     },
     "execution_count": 65,
     "metadata": {},
     "output_type": "execute_result"
    }
   ],
   "source": [
    "# measuring_slope_line与x-y平面的夹角\n",
    "measuring_slope_line_angle_xy = (sp.Abs(sp.pi/2 - sp.Abs(measuring_slope_line.angle_between(sp.Line(origin, k_hat)))))\n",
    "measuring_slope_line_angle_xy"
   ]
  },
  {
   "cell_type": "code",
   "execution_count": 17,
   "metadata": {},
   "outputs": [
    {
     "data": {
      "text/latex": [
       "$\\displaystyle 129.90381056766579701$"
      ],
      "text/plain": [
       "129.90381056766579701"
      ]
     },
     "execution_count": 17,
     "metadata": {},
     "output_type": "execute_result"
    }
   ],
   "source": [
    "pos1.detect_eval()\n",
    "pos1.scan_segment_length_proj_xy"
   ]
  },
  {
   "cell_type": "code",
   "execution_count": null,
   "metadata": {},
   "outputs": [],
   "source": []
  }
 ],
 "metadata": {
  "kernelspec": {
   "display_name": "d2l",
   "language": "python",
   "name": "python3"
  },
  "language_info": {
   "codemirror_mode": {
    "name": "ipython",
    "version": 3
   },
   "file_extension": ".py",
   "mimetype": "text/x-python",
   "name": "python",
   "nbconvert_exporter": "python",
   "pygments_lexer": "ipython3",
   "version": "3.11.4"
  },
  "orig_nbformat": 4
 },
 "nbformat": 4,
 "nbformat_minor": 2
}
