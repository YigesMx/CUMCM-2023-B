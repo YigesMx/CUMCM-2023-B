{
 "cells": [
  {
   "cell_type": "code",
   "execution_count": 1,
   "metadata": {},
   "outputs": [],
   "source": [
    "import numpy as np\n",
    "import pandas as pd\n",
    "import sympy as sp\n",
    "\n",
    "from utilities import *"
   ]
  },
  {
   "cell_type": "code",
   "execution_count": 2,
   "metadata": {},
   "outputs": [],
   "source": [
    "SLOPE_ANGLE = 3 * sp.pi / 360\n",
    "DETECTOR_ANGLE = 2 * sp.pi / 3\n",
    "CENTER_WATER_DEPTH = 110\n",
    "\n",
    "PRECISION = 20\n",
    "\n",
    "NM_TO_M = 1852\n",
    "LENGTH = 4 * NM_TO_M\n",
    "WIDTH = 2 * NM_TO_M"
   ]
  },
  {
   "cell_type": "code",
   "execution_count": 3,
   "metadata": {},
   "outputs": [],
   "source": [
    "field = Field(length=LENGTH, width=WIDTH, center_depth=CENTER_WATER_DEPTH, slope_angle=SLOPE_ANGLE, precision=PRECISION)"
   ]
  },
  {
   "cell_type": "code",
   "execution_count": 7,
   "metadata": {},
   "outputs": [
    {
     "name": "stdout",
     "output_type": "stream",
     "text": [
      "finished calc first_left_measuring_line\n",
      "finished calc first_top_measuring_line\n",
      "finished calc top_measuring_lines: 2 in total\n",
      "overlap_ratio_3: 0.22172746515394435469\n",
      "left: 2 in total\n"
     ]
    },
    {
     "data": {
      "text/plain": [
       "<ArrangeError.OVERLAP_RATIO_TOO_LARGE: 2>"
      ]
     },
     "execution_count": 7,
     "metadata": {},
     "output_type": "execute_result"
    }
   ],
   "source": [
    "field.arrange_measuring_lines(\n",
    "    first_left_measuring_line_from_top = 20, \n",
    "    direction_angle =  89 * sp.pi / 180, \n",
    "    detector_angle = DETECTOR_ANGLE\n",
    ")"
   ]
  },
  {
   "cell_type": "code",
   "execution_count": null,
   "metadata": {},
   "outputs": [],
   "source": []
  }
 ],
 "metadata": {
  "kernelspec": {
   "display_name": "d2l",
   "language": "python",
   "name": "python3"
  },
  "language_info": {
   "codemirror_mode": {
    "name": "ipython",
    "version": 3
   },
   "file_extension": ".py",
   "mimetype": "text/x-python",
   "name": "python",
   "nbconvert_exporter": "python",
   "pygments_lexer": "ipython3",
   "version": "3.11.4"
  },
  "orig_nbformat": 4
 },
 "nbformat": 4,
 "nbformat_minor": 2
}
